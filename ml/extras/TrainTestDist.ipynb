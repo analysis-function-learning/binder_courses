{
 "cells": [
  {
   "cell_type": "markdown",
   "metadata": {},
   "source": [
    "# Train Test Splitting Distributions\n",
    "\n",
    "Notebook to show the effect of performing a train test split."
   ]
  },
  {
   "cell_type": "code",
   "execution_count": null,
   "metadata": {},
   "outputs": [],
   "source": [
    "# Import libraries\n",
    "import pandas as pd \n",
    "from sklearn.preprocessing import RobustScaler\n",
    "import matplotlib.pyplot as plt\n",
    "import numpy as np\n",
    "import seaborn as sns\n",
    "sns.set_palette(\"deep\")\n",
    "%matplotlib inline\n",
    "\n",
    "# Import data\n",
    "bikes_filepath = '../data/bikes.csv'\n",
    "bikes_imported_data = pd.read_csv(filepath_or_buffer=bikes_filepath, delimiter=\",\")\n",
    "\n",
    "# Clean missing data\n",
    "bikes_clean_data = bikes_imported_data.interpolate(method='linear')\n",
    "bikes_clean_data = bikes_clean_data.fillna(method=\"bfill\")\n",
    "\n",
    "# Set our target variable as the count\n",
    "y = bikes_clean_data[\"count\"].to_numpy()\n",
    "\n",
    "# Create scaler object\n",
    "rb_scaler = RobustScaler()\n",
    "\n",
    "# We are just going to use real_temperature\n",
    "numerical_data = bikes_clean_data[[\"real_temperature\"]]\n",
    "#numerical_data = numerical_data.drop(columns=[\"count\", \"feel_temperature\"])\n",
    "\n",
    "# Scale the data.\n",
    "scaled_features = rb_scaler.fit_transform(numerical_data)\n",
    "scaled_data = pd.DataFrame(scaled_features, columns=numerical_data.columns)\n",
    "\n",
    "scaled_data.shape"
   ]
  },
  {
   "cell_type": "code",
   "execution_count": null,
   "metadata": {},
   "outputs": [],
   "source": [
    "# only looking at one variable\n",
    "X = scaled_data"
   ]
  },
  {
   "cell_type": "code",
   "execution_count": null,
   "metadata": {},
   "outputs": [],
   "source": [
    "from sklearn.model_selection import train_test_split\n",
    "\n",
    "# Change this values to impact output visualisation\n",
    "test_proportion = 0.5\n",
    "\n",
    "train_X, test_X, train_y, test_y = train_test_split(X, \n",
    "                                                    y, \n",
    "                                                    test_size=test_proportion, \n",
    "                                                    random_state=None)"
   ]
  },
  {
   "cell_type": "code",
   "execution_count": null,
   "metadata": {},
   "outputs": [],
   "source": [
    "# Original data\n",
    "ax = sns.distplot(X, hist=False, rug=False, label=\"All\");\n"
   ]
  },
  {
   "cell_type": "code",
   "execution_count": null,
   "metadata": {},
   "outputs": [],
   "source": [
    "# Original data and training distribution\n",
    "ax = sns.distplot(X, hist=False, rug=False, label=\"All\");\n",
    "sns.distplot(train_X, hist=False, rug=False, ax=ax, label=\"Train {}%\".format((1-test_proportion)*100));\n"
   ]
  },
  {
   "cell_type": "code",
   "execution_count": null,
   "metadata": {},
   "outputs": [],
   "source": [
    "# Original data, training and test distribution\n",
    "ax = sns.distplot(X, hist=False, rug=False, label=\"All Data\");\n",
    "sns.distplot(train_X, hist=False, rug=False, ax=ax, label=\"Train {}%\".format((1-test_proportion)*100));\n",
    "sns.distplot(test_X, hist=False, rug=False, ax=ax, label=\"Test {}%\".format((test_proportion)*100));\n"
   ]
  },
  {
   "cell_type": "code",
   "execution_count": null,
   "metadata": {},
   "outputs": [],
   "source": [
    "from scipy.stats import ks_2samp\n",
    "# Performing a Kolmogorov–Smirnov test to check if data is drawn from same distribution\n",
    "print(\"KS statistic between train and test data: {}\".format(ks_2samp(train_X.to_numpy()[:,0], test_X.to_numpy()[:,0])[0]))\n",
    "print(\"KS p-value between train and test data: {}\".format(ks_2samp(train_X.to_numpy()[:,0], test_X.to_numpy()[:,0])[1]))"
   ]
  },
  {
   "cell_type": "code",
   "execution_count": null,
   "metadata": {},
   "outputs": [],
   "source": []
  }
 ],
 "metadata": {
  "kernelspec": {
   "display_name": "Python 3",
   "language": "python",
   "name": "python3"
  },
  "language_info": {
   "codemirror_mode": {
    "name": "ipython",
    "version": 3
   },
   "file_extension": ".py",
   "mimetype": "text/x-python",
   "name": "python",
   "nbconvert_exporter": "python",
   "pygments_lexer": "ipython3",
   "version": "3.6.1"
  },
  "toc": {
   "base_numbering": 1,
   "nav_menu": {},
   "number_sections": false,
   "sideBar": true,
   "skip_h1_title": false,
   "title_cell": "Table of Contents",
   "title_sidebar": "Contents",
   "toc_cell": false,
   "toc_position": {},
   "toc_section_display": true,
   "toc_window_display": false
  }
 },
 "nbformat": 4,
 "nbformat_minor": 2
}
