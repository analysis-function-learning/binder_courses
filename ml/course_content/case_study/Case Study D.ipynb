{
 "cells": [
  {
   "cell_type": "markdown",
   "metadata": {},
   "source": [
    "<center> <h1><font size=7> Case Study D</font> </h1> </center>\n",
    "\n",
    "# Exploring Covid US Government Loans\n",
    "\n",
    "In this case study you will use dimension reduction techniques to explore a set of data, visualise it, and build a regression model to predict the quantity of a loan for a given buisness.\n",
    "\n",
    "The data set is `data/NMLoans.csv`. More information on the data set can be found from where it was obtained [here](https://home.treasury.gov/policy-issues/cares-act/assistance-for-small-businesses/sba-paycheck-protection-program-loan-level-data). This data set contains only loans from the state of New Mexico.\n",
    "\n",
    "### Exporatory Tasks\n",
    "\n",
    "1. Load the data\n",
    "2. Explore the data to understand the different columns\n",
    "3. Create a `X_num` using `\"LoanAmount\", \"JobsReported\" and \"DaysApprovedSinceMay1st\"`, standard scale these features\n",
    "4. Perform PCA on `X_num` with only 1 component. Which feature contributes to this component the most?\n",
    "\n",
    "5. Explore the distributions of, then one-hot encode `\"BusinessType\", \"RaceEthnicity\", \"Gender\", \"Veteran\", \"NonProfit\"` into `X_cat`.\n",
    "6. Perform PCA on X_cat, explore the resulting components, which are the most important 5 features in the first component?. How many components would you choose to explain 70% of the variance.\n",
    "7. Combine `X_num` with `X_cat` to make `X`. \n",
    "8. Remove the column for LoanAmount from `X`. Use TSNE to reduce the dimensions of `X` to two. Take a sample of 500 records in X if this methods takes a prohibitive amount of time. Plot the data using the `\"LoansAmount\"` as colour. Can you see a trend based on this projection?\n",
    "\n",
    "\n",
    "**Hint:** Remember to store which `numpy` column corresponds to each feature value.\n",
    "\n",
    "\n",
    "### Modelling Tasks\n",
    "\n",
    "Set `np.random.seed(1)` to ensure reproducible and comparable results.\n",
    "\n",
    "\n",
    "1. Your task is to determine how many `principal_components` using PCA are needed to build a Linear Regression model with `X` to predict `\"LoansAmount\"` with a 80:20 train-test RMSE of less than `30000`.\n",
    "\n",
    "2. Explore the difference in RMSE between different `\"Gender\"` groups. Is there a significant differece between the RMSE of each group? Explain why or why there is not. Use the number of components found in the above question.\n",
    "\n",
    "**Extension:** Using the same original columns, can you engineer the features such that fewer principal components are needed to achieve still achieve the minimum `30000` RMSE. Test on the same `y_test` produced in the tasks above."
   ]
  },
  {
   "cell_type": "code",
   "execution_count": null,
   "metadata": {},
   "outputs": [],
   "source": [
    "# Import libraries\n",
    "import pandas as pd\n"
   ]
  },
  {
   "cell_type": "code",
   "execution_count": null,
   "metadata": {},
   "outputs": [],
   "source": [
    "loans = pd.read_csv(\"../../data/NMLoans.csv\")\n",
    "loans.head()"
   ]
  },
  {
   "cell_type": "code",
   "execution_count": null,
   "metadata": {},
   "outputs": [],
   "source": [
    "# Write your code\n"
   ]
  }
 ],
 "metadata": {
  "kernelspec": {
   "display_name": "Python 3",
   "language": "python",
   "name": "python3"
  },
  "language_info": {
   "codemirror_mode": {
    "name": "ipython",
    "version": 3
   },
   "file_extension": ".py",
   "mimetype": "text/x-python",
   "name": "python",
   "nbconvert_exporter": "python",
   "pygments_lexer": "ipython3",
   "version": "3.6.1"
  }
 },
 "nbformat": 4,
 "nbformat_minor": 4
}
