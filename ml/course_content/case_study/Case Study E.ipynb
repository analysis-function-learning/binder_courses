{
 "cells": [
  {
   "cell_type": "markdown",
   "metadata": {},
   "source": [
    "<center> <h1><font size=7> Case Study E</font> </h1> </center>\n",
    "\n",
    "# Clustering Facebook Posts \n",
    "\n",
    "In this case study you will explore a data set using clustering techniques to group posts.\n",
    "\n",
    "The data is obtained from the [UCI ML Repository](https://archive.ics.uci.edu/ml/datasets/Facebook+Live+Sellers+in+Thailand). It is a collection of records, each describing a facebook live post from a user selling a product.\n",
    "\n",
    "The data can be found in `/data/fb_sale_posts.csv`\n",
    "\n",
    "## Exploratory Tasks\n",
    "\n",
    "1. Load and explore the variables distributions in the data set, convert `\"status_published\"` to a datetime if it is not already.\n",
    "2. Some of the variables are highly skewed numerical distributions. Find methods in `sklearn.preprocessing` or elsewhere to change the distribution of data from skewed to uniform or normal. Use the methods on `\"num_comments\"`.\n",
    "3. The `\"num_reactions\"` should be a sum of all the other reactions recorded per record. Create new features that are the proportion of each reaction type, within the values of `0-1`. For example $prop\\_angrys = \\frac{num\\_angrys}{num\\_reactions}$.\n",
    "4. Explore covariances and correlations between variables: `\"num_reactions\", \"num_comments\", \"num_shares\", \"num_likes\", \"num_loves\"`\n",
    "5. Create a new set of features and add them to the `posts` dataframe:  \n",
    " * \"TimeSinceFirst\" - (int) count of days since the first day that appears in the data set\n",
    " * \"TimeOfDay\" - (int) hour the post was created\n",
    " * \"DayOfWeek\" - (str) the day of the week the post was made (Monday, Tuesday, Wednesday...)\n",
    "Explore the relationship between the number of reactions and the time based features created. \n",
    "6. How are the covariances/correlations with numerical features different between `status_type == \"video\", \"photo\"`, particularly the numbers of reactions, comments and shares?\n",
    "\n",
    "\n",
    "## Modelling Tasks\n",
    "\n",
    "* Visualise a multiple propotions of reactions against one another, what does this tell us?\n",
    "* Use the `Normalizer` scaler from `sklearn` on the reaction counts\n",
    "* Using these normalised features cluster and tune kmeans, heirarchical and DBCAN models. Plot the best model of each class using PCA to examine the results. Which model gets the highest silhouette score? Why do you think this is?\n",
    "\n",
    "Extension:\n",
    "\n",
    "* Perform feature engineering that improves the silhouette scores of the clustering of the above data. Add in **one** feature max from the original data set (such as \"status_type\", or \"TimeOfday\", \"num_shares\", encoded) to improve the clustering. Can you gain different insight from this addition?\n",
    "* Try to transform the features such that more groups of clusters can be found, each with a different meaning or population of post.\n",
    "\n"
   ]
  },
  {
   "cell_type": "code",
   "execution_count": null,
   "metadata": {},
   "outputs": [],
   "source": []
  }
 ],
 "metadata": {
  "kernelspec": {
   "display_name": "Python 3",
   "language": "python",
   "name": "python3"
  },
  "language_info": {
   "codemirror_mode": {
    "name": "ipython",
    "version": 3
   },
   "file_extension": ".py",
   "mimetype": "text/x-python",
   "name": "python",
   "nbconvert_exporter": "python",
   "pygments_lexer": "ipython3",
   "version": "3.6.1"
  }
 },
 "nbformat": 4,
 "nbformat_minor": 4
}
