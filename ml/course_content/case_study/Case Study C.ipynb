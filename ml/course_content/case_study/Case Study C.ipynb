{
 "cells": [
  {
   "cell_type": "markdown",
   "metadata": {},
   "source": [
    "<center> <h1><font size=7> Case Study C</font> </h1> </center>\n",
    "\n",
    "# Predicting AirBnB Prices\n",
    "\n",
    "In this case study build a model such that you can predict the price per night of an AirBnB rental.\n",
    "\n",
    "Your task is to create a model that uses both the Bristol, Manchester and Greater Manchester data sets that can predict the mean absolute error (MAE) on a 80:20 train test split less than £35.\n",
    "\n",
    "All of the data is located with `/data/airbnb/`.\n",
    "\n",
    "You have been given the AirBnB listings data, containing information about each property. This will form the basis of your model. \n",
    "\n",
    "In addition, you have been given supplementary data sources which you can use to improve your model's performance. These data sets provide information about characteristic values, such as house prices, in each geography. These will need to be joined on to the listings data appropriately in order to use them in a model.\n",
    "\n",
    "You are encouraged to compare and contrast the following regression models:\n",
    "\n",
    "* Linear Regression\n",
    "* Ridge Regression\n",
    "* LASSO Regression\n",
    "* [KNN Regression](https://scikit-learn.org/stable/modules/neighbors.html#nearest-neighbors-regression)\n",
    "\n",
    "It is recommended to use one notebook for data cleaning, and a second for analysis. Save your clean data output to `\"/data/airbnb/clean_data.csv\"`\n",
    "\n",
    "**Hint**\n",
    "\n",
    "Consider the following pre-processing steps:\n",
    "\n",
    "* Impute missing data\n",
    "* Combining listings data\n",
    "* Cleaning strings\n",
    "* Encode Ammenities\n",
    "* Using location to join supplementary data\n",
    "\n",
    "When modelling, take into account:\n",
    "\n",
    "* Distributions and relationships within your data\n",
    "* Impact of features on the target price\n",
    "* Transforming data from one distribution to another\n",
    "* Scaling data\n",
    "* Hyper parameter tuning\n",
    "* Residual / error investigation\n",
    "\n",
    "Extension:\n",
    "\n",
    "* Try to get a MAE of $\\leq$ £30\n",
    "* Using further transformations attempt to beat the best score in the example solution of £25.9\n",
    "\n"
   ]
  },
  {
   "cell_type": "code",
   "execution_count": 1,
   "metadata": {},
   "outputs": [],
   "source": [
    "# Write your code here\n"
   ]
  }
 ],
 "metadata": {
  "kernelspec": {
   "display_name": "Python 3",
   "language": "python",
   "name": "python3"
  },
  "language_info": {
   "codemirror_mode": {
    "name": "ipython",
    "version": 3
   },
   "file_extension": ".py",
   "mimetype": "text/x-python",
   "name": "python",
   "nbconvert_exporter": "python",
   "pygments_lexer": "ipython3",
   "version": "3.6.1"
  },
  "toc": {
   "base_numbering": 1,
   "nav_menu": {},
   "number_sections": false,
   "sideBar": true,
   "skip_h1_title": false,
   "title_cell": "Table of Contents",
   "title_sidebar": "Contents",
   "toc_cell": false,
   "toc_position": {},
   "toc_section_display": true,
   "toc_window_display": false
  }
 },
 "nbformat": 4,
 "nbformat_minor": 2
}
