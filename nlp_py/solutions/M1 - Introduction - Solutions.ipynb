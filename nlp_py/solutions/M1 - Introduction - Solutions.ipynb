{
 "cells": [
  {
   "cell_type": "markdown",
   "metadata": {},
   "source": [
    "#### Exercise\n",
    "\n",
    "<br>\n",
    "\n",
    "\n",
    "<ol>\n",
    "  <li><p><i>I can say something in a natural language that no one has ever said in the history of the universe.</i></p> True or False ? Give a reason for your answer.</li>\n",
    "  <li> For the following sentence label each word with a part of speech, such as *noun* or verb. You may need to look up some words:\n",
    "      <p><i>The chef cooks the soup</i></p></li>\n",
    "  <li><p><i>I feel sick today, I dont want to go to work, what do you think Siri?</i></p> What type of NLP application is this? Why would it be difficult to answer ?</li>\n",
    "  <li><p><i>I went to the bank.</i></p> How would such a sentence be difficult for a language proceessing application.\n",
    "What measure could be taken to overcome the issue?</li>\n",
    "</ol>\n"
   ]
  },
  {
   "cell_type": "markdown",
   "metadata": {},
   "source": [
    "**Question 1:** I can say something in a natural language that no one has ever said in the history of the universe.</i></p> True or False ? Give a reason for your answer."
   ]
  },
  {
   "cell_type": "markdown",
   "metadata": {},
   "source": [
    "True\n",
    "\n",
    "\n",
    "One important phenomenon within linguistics is recursion, or the linguistic extension of a mathematical phenomenon in which a structure is repeated again and again, dynamically, within itself."
   ]
  },
  {
   "cell_type": "markdown",
   "metadata": {},
   "source": [
    "**Question 2:** \n",
    "For the following sentence label each word with a part of speech, such as *noun* or verb. You may need to look up some words:\n",
    "\n",
    "*The chef cooks the soup*"
   ]
  },
  {
   "attachments": {},
   "cell_type": "markdown",
   "metadata": {},
   "source": [
    "\"The\" could be a definite article, or adjective.\n",
    "\n",
    "\"chef\" is a noun.\n",
    "\n",
    "\"cooks\" is a verb.\n",
    "\n",
    "\"soup\" is a noun."
   ]
  },
  {
   "cell_type": "markdown",
   "metadata": {},
   "source": [
    "**Question 3**: *I feel sick today, I dont want to go to work, what do you think Siri?*\n",
    "\n",
    "What type of NLP application is this? Why would it be difficult to answer ?"
   ]
  },
  {
   "cell_type": "markdown",
   "metadata": {},
   "source": [
    "Question Answering \n",
    "\n",
    "Highly subjective - Current versions of Siri have little common sense built in and could not give an appropriate answer"
   ]
  },
  {
   "cell_type": "markdown",
   "metadata": {},
   "source": [
    "**Question 4:**\n",
    "\n",
    "*I went to the bank.*\n",
    "\n",
    "How would such a sentence be difficult for a language proceessing application. What measure could be taken to overcome the issue?"
   ]
  },
  {
   "cell_type": "markdown",
   "metadata": {},
   "source": [
    "Words can have a range of meaning, \"bank\" could refer to the financial institution or the river bank. We could examine the context of the sentence to deduce which of these is being referred to.\n"
   ]
  },
  {
   "cell_type": "code",
   "execution_count": null,
   "metadata": {},
   "outputs": [],
   "source": []
  }
 ],
 "metadata": {
  "kernelspec": {
   "display_name": "Python 3",
   "language": "python",
   "name": "python3"
  },
  "language_info": {
   "codemirror_mode": {
    "name": "ipython",
    "version": 3
   },
   "file_extension": ".py",
   "mimetype": "text/x-python",
   "name": "python",
   "nbconvert_exporter": "python",
   "pygments_lexer": "ipython3",
   "version": "3.6.1"
  }
 },
 "nbformat": 4,
 "nbformat_minor": 4
}
